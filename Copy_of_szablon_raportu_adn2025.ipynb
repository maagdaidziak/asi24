{
  "nbformat": 4,
  "nbformat_minor": 0,
  "metadata": {
    "colab": {
      "provenance": [],
      "include_colab_link": true
    },
    "kernelspec": {
      "name": "python3",
      "display_name": "Python 3"
    },
    "language_info": {
      "name": "python"
    }
  },
  "cells": [
    {
      "cell_type": "markdown",
      "metadata": {
        "id": "view-in-github",
        "colab_type": "text"
      },
      "source": [
        "<a href=\"https://colab.research.google.com/github/maagdaidziak/asi24/blob/main/Copy_of_szablon_raportu_adn2025.ipynb\" target=\"_parent\"><img src=\"https://colab.research.google.com/assets/colab-badge.svg\" alt=\"Open In Colab\"/></a>"
      ]
    },
    {
      "cell_type": "markdown",
      "source": [
        "# 1. Wstęp"
      ],
      "metadata": {
        "id": "MqktrpNysSYB"
      }
    },
    {
      "cell_type": "code",
      "source": [],
      "metadata": {
        "id": "EWvNX4LYuymg"
      },
      "execution_count": null,
      "outputs": []
    },
    {
      "cell_type": "markdown",
      "source": [
        "Ogólna informacja o zastosowanym podejściu i wyniku (z Kaggle wraz z nickiem). Streszczenie na 3-4 zdania. Akceptowany format: `qmd` i `ipynb` (preferowany colab). Proszę opisać również jak korzystali Państwo z LLMów na potrzeby tego projektu (jeżeli były wykorzystane).\n",
        "\n",
        "Plik proszę nazwać: `NIU_nazwisko_imie`."
      ],
      "metadata": {
        "id": "ZVM-qa1DsSVR"
      }
    },
    {
      "cell_type": "markdown",
      "source": [
        "# 2. Metodyka"
      ],
      "metadata": {
        "id": "EBlQQGYfsSS2"
      }
    },
    {
      "cell_type": "markdown",
      "source": [
        "Opis zaproponowanego podejścia. Proszę opisać do dokładnie Pan/i zrobiła w projekcie. Jakie podejście zastosowano, jako metody wykorzystano i z jakich narzędzi korzystano. Zwięzły opis na 3-4 akapity (po 5-8 zdań każdy)."
      ],
      "metadata": {
        "id": "MKgEc7jhsSQQ"
      }
    },
    {
      "cell_type": "markdown",
      "source": [
        "# 3. Wyniki"
      ],
      "metadata": {
        "id": "vlUj41SlsSNw"
      }
    },
    {
      "cell_type": "markdown",
      "source": [
        "Proszę opisać uzyskane wyniki. Można pokazać jak zmieniały się wyniki na kaggle i w jaki sposób wybrano ostateczny model. Proszę podać ile razy sprawdzano zaproponowane rozwiazania."
      ],
      "metadata": {
        "id": "OgzxBfJGsSLS"
      }
    },
    {
      "cell_type": "markdown",
      "source": [
        "# 4. Podsumowanie"
      ],
      "metadata": {
        "id": "cLjVkczMsSFT"
      }
    },
    {
      "cell_type": "markdown",
      "source": [
        "Proszę krótko podsumować projekt, najpisać czego się Państwo nauczyli w trakcie tego projektu i czy imputacja danych faktycznie pomogła (czy moze nie?). Proszę podsumować Państwa doświadczenie z wykorzystania LLMów (o ile było) na potrzeby tego projektu."
      ],
      "metadata": {
        "id": "oW-C4_GNsdAh"
      }
    },
    {
      "cell_type": "markdown",
      "source": [
        "# 5. Kody do odtworzenia wyników"
      ],
      "metadata": {
        "id": "y5vxmRoNsc6y"
      }
    },
    {
      "cell_type": "markdown",
      "source": [
        "W tym miejscu powinien znajdować się kod, który po ustawnieniu ścieżki do pliku `train.csv` i `test.csv` będę mógł w CAŁOŚCI uruchiomić (bez błędów). Kod powinien być skomentowany i możliwy do uruchomienia. PROSZĘ SPRAWDZIĆ WSZYSTKO PRZED WYSŁANIEM ROZWIĄZAŃ!\n",
        "\n",
        "## 5.2. Proponowana struktura\n",
        "\n",
        "Sugerowana struktura sekcji z kodami\n",
        "\n",
        "+ (instalacja) wczytywanie pakietów\n",
        "+ wczytanie danych\n",
        "+ przetwarzanie\n",
        "+ predykcja\n",
        "+ zapis wyniku do CSV"
      ],
      "metadata": {
        "id": "CRCMaejFsR4l"
      }
    }
  ]
}